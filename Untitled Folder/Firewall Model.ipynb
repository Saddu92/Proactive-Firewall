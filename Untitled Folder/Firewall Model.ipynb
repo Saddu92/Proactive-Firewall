{
 "cells": [
  {
   "cell_type": "code",
   "execution_count": 4,
   "id": "6491cdc8-43b4-4d1b-9057-7c486665f0c6",
   "metadata": {},
   "outputs": [],
   "source": [
    "import pandas as pd\n",
    "import glob\n",
    "import os\n"
   ]
  },
  {
   "cell_type": "code",
   "execution_count": 5,
   "id": "e3b09c31-8ae5-43da-b94b-2316025c1380",
   "metadata": {},
   "outputs": [],
   "source": [
    "data_path = r\"C:\\Users\\Siratulla\\Desktop\\SAAD\\New folder\"\n",
    "\n"
   ]
  },
  {
   "cell_type": "code",
   "execution_count": 6,
   "id": "2f8aae53-d0bc-40b4-9b30-86dac5c8139b",
   "metadata": {},
   "outputs": [],
   "source": [
    "all_files = glob.glob(os.path.join(data_path, \"*.csv\"))\n",
    "\n"
   ]
  },
  {
   "cell_type": "code",
   "execution_count": 7,
   "id": "9df0bd5b-8ca7-45bc-99a3-3553bfa0fd29",
   "metadata": {},
   "outputs": [],
   "source": [
    "df_list = [pd.read_csv(file, low_memory=False) for file in all_files]\n",
    "df = pd.concat(df_list, ignore_index=True)\n"
   ]
  },
  {
   "cell_type": "code",
   "execution_count": 8,
   "id": "836841a0-332d-4263-b639-5e7ef44635f0",
   "metadata": {},
   "outputs": [
    {
     "data": {
      "text/html": [
       "<div>\n",
       "<style scoped>\n",
       "    .dataframe tbody tr th:only-of-type {\n",
       "        vertical-align: middle;\n",
       "    }\n",
       "\n",
       "    .dataframe tbody tr th {\n",
       "        vertical-align: top;\n",
       "    }\n",
       "\n",
       "    .dataframe thead th {\n",
       "        text-align: right;\n",
       "    }\n",
       "</style>\n",
       "<table border=\"1\" class=\"dataframe\">\n",
       "  <thead>\n",
       "    <tr style=\"text-align: right;\">\n",
       "      <th></th>\n",
       "      <th>Dst Port</th>\n",
       "      <th>Protocol</th>\n",
       "      <th>Timestamp</th>\n",
       "      <th>Flow Duration</th>\n",
       "      <th>Tot Fwd Pkts</th>\n",
       "      <th>Tot Bwd Pkts</th>\n",
       "      <th>TotLen Fwd Pkts</th>\n",
       "      <th>TotLen Bwd Pkts</th>\n",
       "      <th>Fwd Pkt Len Max</th>\n",
       "      <th>Fwd Pkt Len Min</th>\n",
       "      <th>...</th>\n",
       "      <th>Fwd Seg Size Min</th>\n",
       "      <th>Active Mean</th>\n",
       "      <th>Active Std</th>\n",
       "      <th>Active Max</th>\n",
       "      <th>Active Min</th>\n",
       "      <th>Idle Mean</th>\n",
       "      <th>Idle Std</th>\n",
       "      <th>Idle Max</th>\n",
       "      <th>Idle Min</th>\n",
       "      <th>Label</th>\n",
       "    </tr>\n",
       "  </thead>\n",
       "  <tbody>\n",
       "    <tr>\n",
       "      <th>0</th>\n",
       "      <td>0</td>\n",
       "      <td>0</td>\n",
       "      <td>14/02/2018 08:31:01</td>\n",
       "      <td>112641719</td>\n",
       "      <td>3</td>\n",
       "      <td>0</td>\n",
       "      <td>0</td>\n",
       "      <td>0</td>\n",
       "      <td>0</td>\n",
       "      <td>0</td>\n",
       "      <td>...</td>\n",
       "      <td>0</td>\n",
       "      <td>0.0</td>\n",
       "      <td>0.0</td>\n",
       "      <td>0</td>\n",
       "      <td>0</td>\n",
       "      <td>56320859.5</td>\n",
       "      <td>139.300036</td>\n",
       "      <td>56320958</td>\n",
       "      <td>56320761</td>\n",
       "      <td>Benign</td>\n",
       "    </tr>\n",
       "    <tr>\n",
       "      <th>1</th>\n",
       "      <td>0</td>\n",
       "      <td>0</td>\n",
       "      <td>14/02/2018 08:33:50</td>\n",
       "      <td>112641466</td>\n",
       "      <td>3</td>\n",
       "      <td>0</td>\n",
       "      <td>0</td>\n",
       "      <td>0</td>\n",
       "      <td>0</td>\n",
       "      <td>0</td>\n",
       "      <td>...</td>\n",
       "      <td>0</td>\n",
       "      <td>0.0</td>\n",
       "      <td>0.0</td>\n",
       "      <td>0</td>\n",
       "      <td>0</td>\n",
       "      <td>56320733.0</td>\n",
       "      <td>114.551299</td>\n",
       "      <td>56320814</td>\n",
       "      <td>56320652</td>\n",
       "      <td>Benign</td>\n",
       "    </tr>\n",
       "    <tr>\n",
       "      <th>2</th>\n",
       "      <td>0</td>\n",
       "      <td>0</td>\n",
       "      <td>14/02/2018 08:36:39</td>\n",
       "      <td>112638623</td>\n",
       "      <td>3</td>\n",
       "      <td>0</td>\n",
       "      <td>0</td>\n",
       "      <td>0</td>\n",
       "      <td>0</td>\n",
       "      <td>0</td>\n",
       "      <td>...</td>\n",
       "      <td>0</td>\n",
       "      <td>0.0</td>\n",
       "      <td>0.0</td>\n",
       "      <td>0</td>\n",
       "      <td>0</td>\n",
       "      <td>56319311.5</td>\n",
       "      <td>301.934596</td>\n",
       "      <td>56319525</td>\n",
       "      <td>56319098</td>\n",
       "      <td>Benign</td>\n",
       "    </tr>\n",
       "    <tr>\n",
       "      <th>3</th>\n",
       "      <td>22</td>\n",
       "      <td>6</td>\n",
       "      <td>14/02/2018 08:40:13</td>\n",
       "      <td>6453966</td>\n",
       "      <td>15</td>\n",
       "      <td>10</td>\n",
       "      <td>1239</td>\n",
       "      <td>2273</td>\n",
       "      <td>744</td>\n",
       "      <td>0</td>\n",
       "      <td>...</td>\n",
       "      <td>32</td>\n",
       "      <td>0.0</td>\n",
       "      <td>0.0</td>\n",
       "      <td>0</td>\n",
       "      <td>0</td>\n",
       "      <td>0.0</td>\n",
       "      <td>0.0</td>\n",
       "      <td>0</td>\n",
       "      <td>0</td>\n",
       "      <td>Benign</td>\n",
       "    </tr>\n",
       "    <tr>\n",
       "      <th>4</th>\n",
       "      <td>22</td>\n",
       "      <td>6</td>\n",
       "      <td>14/02/2018 08:40:23</td>\n",
       "      <td>8804066</td>\n",
       "      <td>14</td>\n",
       "      <td>11</td>\n",
       "      <td>1143</td>\n",
       "      <td>2209</td>\n",
       "      <td>744</td>\n",
       "      <td>0</td>\n",
       "      <td>...</td>\n",
       "      <td>32</td>\n",
       "      <td>0.0</td>\n",
       "      <td>0.0</td>\n",
       "      <td>0</td>\n",
       "      <td>0</td>\n",
       "      <td>0.0</td>\n",
       "      <td>0.0</td>\n",
       "      <td>0</td>\n",
       "      <td>0</td>\n",
       "      <td>Benign</td>\n",
       "    </tr>\n",
       "  </tbody>\n",
       "</table>\n",
       "<p>5 rows × 80 columns</p>\n",
       "</div>"
      ],
      "text/plain": [
       "  Dst Port Protocol            Timestamp Flow Duration Tot Fwd Pkts  \\\n",
       "0        0        0  14/02/2018 08:31:01     112641719            3   \n",
       "1        0        0  14/02/2018 08:33:50     112641466            3   \n",
       "2        0        0  14/02/2018 08:36:39     112638623            3   \n",
       "3       22        6  14/02/2018 08:40:13       6453966           15   \n",
       "4       22        6  14/02/2018 08:40:23       8804066           14   \n",
       "\n",
       "  Tot Bwd Pkts TotLen Fwd Pkts TotLen Bwd Pkts Fwd Pkt Len Max  \\\n",
       "0            0               0               0               0   \n",
       "1            0               0               0               0   \n",
       "2            0               0               0               0   \n",
       "3           10            1239            2273             744   \n",
       "4           11            1143            2209             744   \n",
       "\n",
       "  Fwd Pkt Len Min  ... Fwd Seg Size Min Active Mean Active Std Active Max  \\\n",
       "0               0  ...                0         0.0        0.0          0   \n",
       "1               0  ...                0         0.0        0.0          0   \n",
       "2               0  ...                0         0.0        0.0          0   \n",
       "3               0  ...               32         0.0        0.0          0   \n",
       "4               0  ...               32         0.0        0.0          0   \n",
       "\n",
       "  Active Min   Idle Mean    Idle Std  Idle Max  Idle Min   Label  \n",
       "0          0  56320859.5  139.300036  56320958  56320761  Benign  \n",
       "1          0  56320733.0  114.551299  56320814  56320652  Benign  \n",
       "2          0  56319311.5  301.934596  56319525  56319098  Benign  \n",
       "3          0         0.0         0.0         0         0  Benign  \n",
       "4          0         0.0         0.0         0         0  Benign  \n",
       "\n",
       "[5 rows x 80 columns]"
      ]
     },
     "execution_count": 8,
     "metadata": {},
     "output_type": "execute_result"
    }
   ],
   "source": [
    "df.head(5)"
   ]
  },
  {
   "cell_type": "code",
   "execution_count": 9,
   "id": "72f4b641-08e0-4bb5-9800-4d11812f35ef",
   "metadata": {},
   "outputs": [
    {
     "data": {
      "text/plain": [
       "'Dst Port'"
      ]
     },
     "execution_count": 9,
     "metadata": {},
     "output_type": "execute_result"
    }
   ],
   "source": [
    "columns_to_keep = [\n",
    "    'Dst Port',           # Destination Port (identifies the service)\n",
    "    'Protocol',           # Protocol type (TCP, UDP, ICMP)\n",
    "    'Flow Duration',      # Total duration of the network flow\n",
    "    'Tot Fwd Pkts',       # Total forward packets\n",
    "    'Tot Bwd Pkts',       # Total backward packets\n",
    "    'Fwd Pkt Len Mean',   # Average length of forward packets\n",
    "    'Bwd Pkt Len Mean',   # Average length of backward packets\n",
    "    'Flow Byts/s',        # Bytes per second in the flow\n",
    "    'SYN Flag Cnt',       # SYN flag count (helps detect attacks)\n",
    "    'Label'               # Target column (Normal/Attack)\n",
    "]\n",
    "\n",
    "'Dst Port'"
   ]
  },
  {
   "cell_type": "code",
   "execution_count": 10,
   "id": "9c6b6b54-c62e-42b8-a1d3-0db4f944274d",
   "metadata": {},
   "outputs": [],
   "source": [
    "df = df[columns_to_keep]\n"
   ]
  },
  {
   "cell_type": "code",
   "execution_count": 53,
   "id": "b4832a1f-701d-4a35-b206-14f9c5480fda",
   "metadata": {},
   "outputs": [
    {
     "data": {
      "text/html": [
       "<div>\n",
       "<style scoped>\n",
       "    .dataframe tbody tr th:only-of-type {\n",
       "        vertical-align: middle;\n",
       "    }\n",
       "\n",
       "    .dataframe tbody tr th {\n",
       "        vertical-align: top;\n",
       "    }\n",
       "\n",
       "    .dataframe thead th {\n",
       "        text-align: right;\n",
       "    }\n",
       "</style>\n",
       "<table border=\"1\" class=\"dataframe\">\n",
       "  <thead>\n",
       "    <tr style=\"text-align: right;\">\n",
       "      <th></th>\n",
       "      <th>Dst Port</th>\n",
       "      <th>Protocol</th>\n",
       "      <th>Flow Duration</th>\n",
       "      <th>Tot Fwd Pkts</th>\n",
       "      <th>Tot Bwd Pkts</th>\n",
       "      <th>Fwd Pkt Len Mean</th>\n",
       "      <th>Bwd Pkt Len Mean</th>\n",
       "      <th>Flow Byts/s</th>\n",
       "      <th>SYN Flag Cnt</th>\n",
       "      <th>Label</th>\n",
       "    </tr>\n",
       "  </thead>\n",
       "  <tbody>\n",
       "    <tr>\n",
       "      <th>count</th>\n",
       "      <td>3145725</td>\n",
       "      <td>3145725</td>\n",
       "      <td>3145725</td>\n",
       "      <td>3145725</td>\n",
       "      <td>3145725</td>\n",
       "      <td>3145725.0</td>\n",
       "      <td>3145725.0</td>\n",
       "      <td>3138527.0</td>\n",
       "      <td>3145725</td>\n",
       "      <td>3145725</td>\n",
       "    </tr>\n",
       "    <tr>\n",
       "      <th>unique</th>\n",
       "      <td>42599</td>\n",
       "      <td>7</td>\n",
       "      <td>1271163</td>\n",
       "      <td>1055</td>\n",
       "      <td>1574</td>\n",
       "      <td>34342.0</td>\n",
       "      <td>54444.0</td>\n",
       "      <td>1415640.0</td>\n",
       "      <td>5</td>\n",
       "      <td>8</td>\n",
       "    </tr>\n",
       "    <tr>\n",
       "      <th>top</th>\n",
       "      <td>53</td>\n",
       "      <td>6</td>\n",
       "      <td>2</td>\n",
       "      <td>1</td>\n",
       "      <td>1</td>\n",
       "      <td>0.0</td>\n",
       "      <td>0.0</td>\n",
       "      <td>0.0</td>\n",
       "      <td>0</td>\n",
       "      <td>Benign</td>\n",
       "    </tr>\n",
       "    <tr>\n",
       "      <th>freq</th>\n",
       "      <td>531252</td>\n",
       "      <td>1513795</td>\n",
       "      <td>89300</td>\n",
       "      <td>817647</td>\n",
       "      <td>897271</td>\n",
       "      <td>735462.0</td>\n",
       "      <td>874388.0</td>\n",
       "      <td>727708.0</td>\n",
       "      <td>2015537</td>\n",
       "      <td>2110475</td>\n",
       "    </tr>\n",
       "  </tbody>\n",
       "</table>\n",
       "</div>"
      ],
      "text/plain": [
       "        Dst Port  Protocol  Flow Duration  Tot Fwd Pkts  Tot Bwd Pkts  \\\n",
       "count    3145725   3145725        3145725       3145725       3145725   \n",
       "unique     42599         7        1271163          1055          1574   \n",
       "top           53         6              2             1             1   \n",
       "freq      531252   1513795          89300        817647        897271   \n",
       "\n",
       "        Fwd Pkt Len Mean  Bwd Pkt Len Mean  Flow Byts/s  SYN Flag Cnt    Label  \n",
       "count          3145725.0         3145725.0    3138527.0       3145725  3145725  \n",
       "unique           34342.0           54444.0    1415640.0             5        8  \n",
       "top                  0.0               0.0          0.0             0   Benign  \n",
       "freq            735462.0          874388.0     727708.0       2015537  2110475  "
      ]
     },
     "execution_count": 53,
     "metadata": {},
     "output_type": "execute_result"
    }
   ],
   "source": [
    "df.describe()"
   ]
  },
  {
   "cell_type": "code",
   "execution_count": 7,
   "id": "7bd15acf-256f-4fc2-87eb-0e8f401434a3",
   "metadata": {},
   "outputs": [
    {
     "data": {
      "text/plain": [
       "Index(['Dst Port', 'Protocol', 'Flow Duration', 'Tot Fwd Pkts', 'Tot Bwd Pkts',\n",
       "       'Fwd Pkt Len Mean', 'Bwd Pkt Len Mean', 'Flow Byts/s', 'SYN Flag Cnt',\n",
       "       'Label'],\n",
       "      dtype='object')"
      ]
     },
     "execution_count": 7,
     "metadata": {},
     "output_type": "execute_result"
    }
   ],
   "source": [
    "df.columns\n"
   ]
  },
  {
   "cell_type": "code",
   "execution_count": 55,
   "id": "be49bebe-5f4d-4415-9b03-a2742069cf88",
   "metadata": {},
   "outputs": [
    {
     "data": {
      "text/plain": [
       "array(['Benign', 'Malicious'], dtype=object)"
      ]
     },
     "execution_count": 55,
     "metadata": {},
     "output_type": "execute_result"
    }
   ],
   "source": [
    "df['Label'].unique()"
   ]
  },
  {
   "cell_type": "code",
   "execution_count": 11,
   "id": "ea80f9b9-ae20-40ab-8e61-fa4af323f5c5",
   "metadata": {},
   "outputs": [],
   "source": [
    "# Replace all occurrences of 'Benign', 'DoS', and 'BruteForce' with 'Malicious'\n",
    "df['Label'] = df['Label'].replace(\n",
    "    [ 'DoS attacks-GoldenEye', 'DoS attacks-Slowloris', 'DoS attacks-SlowHTTPTest', \n",
    "     'DoS attacks-Hulk', 'FTP-BruteForce', 'SSH-Bruteforce','Label'], 'Malicious')\n"
   ]
  },
  {
   "cell_type": "code",
   "execution_count": 12,
   "id": "08209816-441a-40fd-b8b6-1a534e1c19a7",
   "metadata": {},
   "outputs": [],
   "source": [
    "from sklearn.preprocessing import LabelEncoder\n",
    "\n",
    "# Initialize encoder\n",
    "label_encoder = LabelEncoder()\n",
    "\n",
    "# Convert 'Label' column\n",
    "df['Label'] = label_encoder.fit_transform(df['Label'])\n"
   ]
  },
  {
   "cell_type": "code",
   "execution_count": 13,
   "id": "9d2ec6a9-80d1-40e3-8d5c-962de707de6a",
   "metadata": {},
   "outputs": [],
   "source": [
    "df = df.apply(pd.to_numeric, errors='coerce')"
   ]
  },
  {
   "cell_type": "code",
   "execution_count": 14,
   "id": "c7408f93-9df3-4576-a20c-82d764b7f9ef",
   "metadata": {},
   "outputs": [],
   "source": [
    "import numpy as np\n",
    "\n",
    "# Identify numerical columns\n",
    "num_cols = df.select_dtypes(include=[np.number]).columns\n",
    "\n",
    "# Replace infinite values with NaN\n",
    "df[num_cols] = df[num_cols].replace([np.inf, -np.inf], np.nan)\n",
    "\n",
    "# Optionally, fill NaN values with the column's mean (or any other strategy)\n",
    "df[num_cols] = df[num_cols].fillna(df[num_cols].mean())\n"
   ]
  },
  {
   "cell_type": "code",
   "execution_count": 12,
   "id": "b75a1746-aa0b-4490-9f85-99199154e175",
   "metadata": {},
   "outputs": [
    {
     "data": {
      "text/html": [
       "<div>\n",
       "<style scoped>\n",
       "    .dataframe tbody tr th:only-of-type {\n",
       "        vertical-align: middle;\n",
       "    }\n",
       "\n",
       "    .dataframe tbody tr th {\n",
       "        vertical-align: top;\n",
       "    }\n",
       "\n",
       "    .dataframe thead th {\n",
       "        text-align: right;\n",
       "    }\n",
       "</style>\n",
       "<table border=\"1\" class=\"dataframe\">\n",
       "  <thead>\n",
       "    <tr style=\"text-align: right;\">\n",
       "      <th></th>\n",
       "      <th>Dst Port</th>\n",
       "      <th>Protocol</th>\n",
       "      <th>Flow Duration</th>\n",
       "      <th>Tot Fwd Pkts</th>\n",
       "      <th>Tot Bwd Pkts</th>\n",
       "      <th>Fwd Pkt Len Mean</th>\n",
       "      <th>Bwd Pkt Len Mean</th>\n",
       "      <th>Flow Byts/s</th>\n",
       "      <th>SYN Flag Cnt</th>\n",
       "      <th>Label</th>\n",
       "    </tr>\n",
       "  </thead>\n",
       "  <tbody>\n",
       "    <tr>\n",
       "      <th>0</th>\n",
       "      <td>0.0</td>\n",
       "      <td>0.0</td>\n",
       "      <td>112641719.0</td>\n",
       "      <td>3.0</td>\n",
       "      <td>0.0</td>\n",
       "      <td>0.000000</td>\n",
       "      <td>0.000000</td>\n",
       "      <td>0.000000</td>\n",
       "      <td>0.0</td>\n",
       "      <td>0</td>\n",
       "    </tr>\n",
       "    <tr>\n",
       "      <th>1</th>\n",
       "      <td>0.0</td>\n",
       "      <td>0.0</td>\n",
       "      <td>112641466.0</td>\n",
       "      <td>3.0</td>\n",
       "      <td>0.0</td>\n",
       "      <td>0.000000</td>\n",
       "      <td>0.000000</td>\n",
       "      <td>0.000000</td>\n",
       "      <td>0.0</td>\n",
       "      <td>0</td>\n",
       "    </tr>\n",
       "    <tr>\n",
       "      <th>2</th>\n",
       "      <td>0.0</td>\n",
       "      <td>0.0</td>\n",
       "      <td>112638623.0</td>\n",
       "      <td>3.0</td>\n",
       "      <td>0.0</td>\n",
       "      <td>0.000000</td>\n",
       "      <td>0.000000</td>\n",
       "      <td>0.000000</td>\n",
       "      <td>0.0</td>\n",
       "      <td>0</td>\n",
       "    </tr>\n",
       "    <tr>\n",
       "      <th>3</th>\n",
       "      <td>22.0</td>\n",
       "      <td>6.0</td>\n",
       "      <td>6453966.0</td>\n",
       "      <td>15.0</td>\n",
       "      <td>10.0</td>\n",
       "      <td>82.600000</td>\n",
       "      <td>227.300000</td>\n",
       "      <td>544.161528</td>\n",
       "      <td>0.0</td>\n",
       "      <td>0</td>\n",
       "    </tr>\n",
       "    <tr>\n",
       "      <th>4</th>\n",
       "      <td>22.0</td>\n",
       "      <td>6.0</td>\n",
       "      <td>8804066.0</td>\n",
       "      <td>14.0</td>\n",
       "      <td>11.0</td>\n",
       "      <td>81.642857</td>\n",
       "      <td>200.818182</td>\n",
       "      <td>380.733175</td>\n",
       "      <td>0.0</td>\n",
       "      <td>0</td>\n",
       "    </tr>\n",
       "  </tbody>\n",
       "</table>\n",
       "</div>"
      ],
      "text/plain": [
       "   Dst Port  Protocol  Flow Duration  Tot Fwd Pkts  Tot Bwd Pkts  \\\n",
       "0       0.0       0.0    112641719.0           3.0           0.0   \n",
       "1       0.0       0.0    112641466.0           3.0           0.0   \n",
       "2       0.0       0.0    112638623.0           3.0           0.0   \n",
       "3      22.0       6.0      6453966.0          15.0          10.0   \n",
       "4      22.0       6.0      8804066.0          14.0          11.0   \n",
       "\n",
       "   Fwd Pkt Len Mean  Bwd Pkt Len Mean  Flow Byts/s  SYN Flag Cnt  Label  \n",
       "0          0.000000          0.000000     0.000000           0.0      0  \n",
       "1          0.000000          0.000000     0.000000           0.0      0  \n",
       "2          0.000000          0.000000     0.000000           0.0      0  \n",
       "3         82.600000        227.300000   544.161528           0.0      0  \n",
       "4         81.642857        200.818182   380.733175           0.0      0  "
      ]
     },
     "execution_count": 12,
     "metadata": {},
     "output_type": "execute_result"
    }
   ],
   "source": [
    "df.head(5)"
   ]
  },
  {
   "cell_type": "code",
   "execution_count": 15,
   "id": "fe7c01e9-cc72-4bf9-b3cb-53c780027a69",
   "metadata": {},
   "outputs": [],
   "source": [
    "num_cols = df.select_dtypes(include=['float64', 'int64']).columns\n",
    "from sklearn.preprocessing import MinMaxScaler\n",
    "\n",
    "\n",
    "# Normalize numerical data\n",
    "scaler = MinMaxScaler()\n",
    "df[num_cols] = scaler.fit_transform(df[num_cols])"
   ]
  },
  {
   "cell_type": "code",
   "execution_count": 16,
   "id": "8d8545a8-c2b7-406d-aa91-539a198aa415",
   "metadata": {},
   "outputs": [],
   "source": [
    "Q1 = df.quantile(0.25)\n",
    "Q3 = df.quantile(0.75)\n",
    "IQR = Q3 - Q1\n",
    "\n",
    "# Define bounds\n",
    "lower_bound = Q1 - 1.5 * IQR\n",
    "upper_bound = Q3 + 1.5 * IQR\n",
    "\n",
    "# Remove outliers (keep only values within bounds)\n",
    "df_cleaned = df[~((df < lower_bound) | (df > upper_bound)).any(axis=1)]"
   ]
  },
  {
   "cell_type": "code",
   "execution_count": 63,
   "id": "7362e529-c11a-4ab1-96f4-f92770e9cc52",
   "metadata": {},
   "outputs": [
    {
     "data": {
      "text/html": [
       "<div>\n",
       "<style scoped>\n",
       "    .dataframe tbody tr th:only-of-type {\n",
       "        vertical-align: middle;\n",
       "    }\n",
       "\n",
       "    .dataframe tbody tr th {\n",
       "        vertical-align: top;\n",
       "    }\n",
       "\n",
       "    .dataframe thead th {\n",
       "        text-align: right;\n",
       "    }\n",
       "</style>\n",
       "<table border=\"1\" class=\"dataframe\">\n",
       "  <thead>\n",
       "    <tr style=\"text-align: right;\">\n",
       "      <th></th>\n",
       "      <th>Dst Port</th>\n",
       "      <th>Protocol</th>\n",
       "      <th>Flow Duration</th>\n",
       "      <th>Tot Fwd Pkts</th>\n",
       "      <th>Tot Bwd Pkts</th>\n",
       "      <th>Fwd Pkt Len Mean</th>\n",
       "      <th>Bwd Pkt Len Mean</th>\n",
       "      <th>Flow Byts/s</th>\n",
       "      <th>SYN Flag Cnt</th>\n",
       "      <th>Label</th>\n",
       "    </tr>\n",
       "  </thead>\n",
       "  <tbody>\n",
       "    <tr>\n",
       "      <th>0</th>\n",
       "      <td>0.000000</td>\n",
       "      <td>0.000000</td>\n",
       "      <td>0.999992</td>\n",
       "      <td>0.000222</td>\n",
       "      <td>0.000000</td>\n",
       "      <td>0.000000</td>\n",
       "      <td>0.000000</td>\n",
       "      <td>0.000000e+00</td>\n",
       "      <td>0.0</td>\n",
       "      <td>0</td>\n",
       "    </tr>\n",
       "    <tr>\n",
       "      <th>1</th>\n",
       "      <td>0.000000</td>\n",
       "      <td>0.000000</td>\n",
       "      <td>0.999992</td>\n",
       "      <td>0.000222</td>\n",
       "      <td>0.000000</td>\n",
       "      <td>0.000000</td>\n",
       "      <td>0.000000</td>\n",
       "      <td>0.000000e+00</td>\n",
       "      <td>0.0</td>\n",
       "      <td>0</td>\n",
       "    </tr>\n",
       "    <tr>\n",
       "      <th>2</th>\n",
       "      <td>0.000000</td>\n",
       "      <td>0.000000</td>\n",
       "      <td>0.999992</td>\n",
       "      <td>0.000222</td>\n",
       "      <td>0.000000</td>\n",
       "      <td>0.000000</td>\n",
       "      <td>0.000000</td>\n",
       "      <td>0.000000e+00</td>\n",
       "      <td>0.0</td>\n",
       "      <td>0</td>\n",
       "    </tr>\n",
       "    <tr>\n",
       "      <th>3</th>\n",
       "      <td>0.000336</td>\n",
       "      <td>0.352941</td>\n",
       "      <td>0.999876</td>\n",
       "      <td>0.001552</td>\n",
       "      <td>0.000521</td>\n",
       "      <td>0.004997</td>\n",
       "      <td>0.116209</td>\n",
       "      <td>4.190693e-07</td>\n",
       "      <td>0.0</td>\n",
       "      <td>0</td>\n",
       "    </tr>\n",
       "    <tr>\n",
       "      <th>4</th>\n",
       "      <td>0.000336</td>\n",
       "      <td>0.352941</td>\n",
       "      <td>0.999879</td>\n",
       "      <td>0.001441</td>\n",
       "      <td>0.000573</td>\n",
       "      <td>0.004939</td>\n",
       "      <td>0.102670</td>\n",
       "      <td>2.932100e-07</td>\n",
       "      <td>0.0</td>\n",
       "      <td>0</td>\n",
       "    </tr>\n",
       "  </tbody>\n",
       "</table>\n",
       "</div>"
      ],
      "text/plain": [
       "   Dst Port  Protocol  Flow Duration  Tot Fwd Pkts  Tot Bwd Pkts  \\\n",
       "0  0.000000  0.000000       0.999992      0.000222      0.000000   \n",
       "1  0.000000  0.000000       0.999992      0.000222      0.000000   \n",
       "2  0.000000  0.000000       0.999992      0.000222      0.000000   \n",
       "3  0.000336  0.352941       0.999876      0.001552      0.000521   \n",
       "4  0.000336  0.352941       0.999879      0.001441      0.000573   \n",
       "\n",
       "   Fwd Pkt Len Mean  Bwd Pkt Len Mean   Flow Byts/s  SYN Flag Cnt  Label  \n",
       "0          0.000000          0.000000  0.000000e+00           0.0      0  \n",
       "1          0.000000          0.000000  0.000000e+00           0.0      0  \n",
       "2          0.000000          0.000000  0.000000e+00           0.0      0  \n",
       "3          0.004997          0.116209  4.190693e-07           0.0      0  \n",
       "4          0.004939          0.102670  2.932100e-07           0.0      0  "
      ]
     },
     "execution_count": 63,
     "metadata": {},
     "output_type": "execute_result"
    }
   ],
   "source": [
    "df.head(5)"
   ]
  },
  {
   "cell_type": "code",
   "execution_count": 64,
   "id": "b14b38ad-1b24-4093-9e74-29399741c068",
   "metadata": {},
   "outputs": [
    {
     "name": "stdout",
     "output_type": "stream",
     "text": [
      "<class 'pandas.core.frame.DataFrame'>\n",
      "RangeIndex: 3145725 entries, 0 to 3145724\n",
      "Data columns (total 10 columns):\n",
      " #   Column            Dtype  \n",
      "---  ------            -----  \n",
      " 0   Dst Port          float64\n",
      " 1   Protocol          float64\n",
      " 2   Flow Duration     float64\n",
      " 3   Tot Fwd Pkts      float64\n",
      " 4   Tot Bwd Pkts      float64\n",
      " 5   Fwd Pkt Len Mean  float64\n",
      " 6   Bwd Pkt Len Mean  float64\n",
      " 7   Flow Byts/s       float64\n",
      " 8   SYN Flag Cnt      float64\n",
      " 9   Label             int32  \n",
      "dtypes: float64(9), int32(1)\n",
      "memory usage: 228.0 MB\n"
     ]
    }
   ],
   "source": [
    "df.info()"
   ]
  },
  {
   "cell_type": "code",
   "execution_count": 17,
   "id": "cff894dc-4d25-4f9d-b6a6-98df89b0ec5a",
   "metadata": {},
   "outputs": [
    {
     "name": "stdout",
     "output_type": "stream",
     "text": [
      "SMOTE applied successfully!\n"
     ]
    }
   ],
   "source": [
    "from imblearn.over_sampling import SMOTE\n",
    "from sklearn.model_selection import train_test_split\n",
    "\n",
    "# 1. Define Features and Labels\n",
    "X = df.drop(columns=['Label'])  # Features\n",
    "y = df['Label']  # Target\n",
    "\n",
    "# 2. Split Data into Training and Testing Sets (Before SMOTE)\n",
    "X_train, X_test, y_train, y_test = train_test_split(X, y, test_size=0.2, random_state=42, stratify=y)\n",
    "\n",
    "# 3. Apply SMOTE on Training Data Only\n",
    "smote = SMOTE(random_state=42)\n",
    "try:\n",
    "    X_train_resampled, y_train_resampled = smote.fit_resample(X_train, y_train)\n",
    "    print(\"SMOTE applied successfully!\")\n",
    "except Exception as e:\n",
    "    print(\"SMOTE Error:\", e)\n"
   ]
  },
  {
   "cell_type": "code",
   "execution_count": 19,
   "id": "46fe9044-1427-4a8f-9f1b-53f07f9a4d40",
   "metadata": {},
   "outputs": [
    {
     "name": "stdout",
     "output_type": "stream",
     "text": [
      "Model training completed successfully!\n"
     ]
    }
   ],
   "source": [
    "import xgboost as xgb\n",
    "from xgboost import XGBClassifier\n",
    "\n",
    "# Initialize XGBoost classifier\n",
    "model = XGBClassifier(\n",
    "    objective='binary:logistic',  \n",
    "    eval_metric='logloss',        \n",
    "    use_label_encoder=False,\n",
    "    verbosity=0  \n",
    ")\n",
    "\n",
    "# Fit the model to the training data\n",
    "model.fit(X_train_resampled, y_train_resampled)\n",
    "\n",
    "# Check if model is trained successfully\n",
    "print(\"Model training completed successfully!\")"
   ]
  },
  {
   "cell_type": "code",
   "execution_count": 23,
   "id": "ed1a15aa-65f3-49c8-86e9-bcfaf9f4549c",
   "metadata": {},
   "outputs": [],
   "source": [
    "y_pred = model.predict(X_test)\n"
   ]
  },
  {
   "cell_type": "code",
   "execution_count": 24,
   "id": "ab0ac36b-4bb9-4bdf-9345-2315ecf62941",
   "metadata": {},
   "outputs": [
    {
     "data": {
      "text/plain": [
       "array([0, 0, 0, ..., 0, 1, 0])"
      ]
     },
     "execution_count": 24,
     "metadata": {},
     "output_type": "execute_result"
    }
   ],
   "source": [
    "y_pred"
   ]
  },
  {
   "cell_type": "code",
   "execution_count": 20,
   "id": "2386f3ce-fa05-4d58-a817-7d6385eac258",
   "metadata": {},
   "outputs": [],
   "source": [
    "score = model.score(X_test, y_test)\n"
   ]
  },
  {
   "cell_type": "code",
   "execution_count": 21,
   "id": "3a9b2015-4a0c-46f3-834b-70469aaf4fb4",
   "metadata": {},
   "outputs": [
    {
     "data": {
      "text/plain": [
       "0.9717600871023373"
      ]
     },
     "execution_count": 21,
     "metadata": {},
     "output_type": "execute_result"
    }
   ],
   "source": [
    "score"
   ]
  },
  {
   "cell_type": "code",
   "execution_count": 22,
   "id": "6947cd6c-53c1-4a87-a9d5-3eed38b0b284",
   "metadata": {},
   "outputs": [
    {
     "data": {
      "text/plain": [
       "['xgboost_model.pkl']"
      ]
     },
     "execution_count": 22,
     "metadata": {},
     "output_type": "execute_result"
    }
   ],
   "source": [
    "# Saving the model\n",
    "import joblib\n",
    "joblib.dump(model, \"xgboost_model.pkl\")\n"
   ]
  },
  {
   "cell_type": "code",
   "execution_count": null,
   "id": "2efc72ab-ecc6-4218-8f99-fbebe3bd99fd",
   "metadata": {},
   "outputs": [],
   "source": [
    "# To Load the modelab loaded_model = joblib.load(\"xgboost_model.pkl\")\n"
   ]
  },
  {
   "cell_type": "code",
   "execution_count": null,
   "id": "8c2b1d4a-4b4a-4af9-8a17-e60cdcd5f4b7",
   "metadata": {},
   "outputs": [],
   "source": [
    "# Here on checking the different different metric score"
   ]
  },
  {
   "cell_type": "code",
   "execution_count": 25,
   "id": "bfdca831-44a5-438b-b9d4-c8c395433a97",
   "metadata": {},
   "outputs": [
    {
     "name": "stdout",
     "output_type": "stream",
     "text": [
      "Accuracy: 0.9718\n"
     ]
    }
   ],
   "source": [
    "from sklearn.metrics import accuracy_score\n",
    "accuracy = accuracy_score(y_test, y_pred)\n",
    "print(f\"Accuracy: {accuracy:.4f}\")"
   ]
  },
  {
   "cell_type": "code",
   "execution_count": null,
   "id": "1e3500a5-f867-4ea7-a2e8-ee64875e94e6",
   "metadata": {},
   "outputs": [],
   "source": []
  }
 ],
 "metadata": {
  "kernelspec": {
   "display_name": "Python 3 (ipykernel)",
   "language": "python",
   "name": "python3"
  },
  "language_info": {
   "codemirror_mode": {
    "name": "ipython",
    "version": 3
   },
   "file_extension": ".py",
   "mimetype": "text/x-python",
   "name": "python",
   "nbconvert_exporter": "python",
   "pygments_lexer": "ipython3",
   "version": "3.11.0"
  }
 },
 "nbformat": 4,
 "nbformat_minor": 5
}
