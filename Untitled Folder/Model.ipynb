{
 "cells": [
  {
   "cell_type": "code",
   "execution_count": null,
   "id": "d20b6e8f-aef1-4de4-934e-c474871514c9",
   "metadata": {},
   "outputs": [],
   "source": [
    "import pandas as pd\n",
    "import glob\n",
    "import os"
   ]
  },
  {
   "cell_type": "raw",
   "id": "96d0d7ef-4bba-494d-847f-7d7b6cb0b6ec",
   "metadata": {},
   "source": [
    "data_path = r\"C:\\Users\\Siratulla\\Desktop\\New folder (2)\"\n"
   ]
  },
  {
   "cell_type": "raw",
   "id": "47f6fce8-e2fa-44b5-a846-0d5edaafdd8a",
   "metadata": {},
   "source": [
    "all_files = glob.glob(os.path.join(data_path, \"*.csv\"))\n",
    "\n"
   ]
  },
  {
   "cell_type": "raw",
   "id": "206d20fe-f9ab-4ecc-9b24-063017f52d16",
   "metadata": {},
   "source": [
    "df_list = [pd.read_csv(file, low_memory=False) for file in all_files]\n",
    "df = pd.concat(df_list, ignore_index=True)"
   ]
  },
  {
   "cell_type": "raw",
   "id": "1f811221-b5ad-4089-9f62-4d24b17d53e5",
   "metadata": {},
   "source": [
    "df.shape"
   ]
  },
  {
   "cell_type": "raw",
   "id": "a8bb75a6-cd3d-4112-9e4a-34bed1741a28",
   "metadata": {},
   "source": [
    "df.columns = df.columns.str.strip()"
   ]
  },
  {
   "cell_type": "raw",
   "id": "0e233d20-794e-4235-b6f2-41935003264d",
   "metadata": {},
   "source": [
    "# Drop the irrelevant columns\n",
    "df = df.drop(columns=[\n",
    "     'Fwd Header Length', 'Bwd Header Length',\n",
    "    'Fwd PSH Flags', 'Bwd PSH Flags', 'Fwd URG Flags', 'Bwd URG Flags', 'Fwd IAT Total', 'Bwd IAT Total',\n",
    "    'Flow Duration', 'Total Fwd Packets', 'Total Backward Packets', 'Total Length of Fwd Packets', \n",
    "    'Total Length of Bwd Packets', 'Fwd Packet Length Max', 'Fwd Packet Length Min', 'Fwd Packet Length Mean',\n",
    "    'Fwd Packet Length Std', 'Bwd Packet Length Max', 'Bwd Packet Length Min', 'Bwd Packet Length Mean', \n",
    "    'Bwd Packet Length Std', 'Flow Bytes/s', 'Flow Packets/s', 'Flow IAT Mean', 'Flow IAT Std', 'Flow IAT Max',\n",
    "    'Flow IAT Min', 'Fwd IAT Mean', 'Fwd IAT Std', 'Fwd IAT Max', 'Fwd IAT Min', 'Bwd IAT Mean', 'Bwd IAT Std',\n",
    "    'Bwd IAT Max', 'Bwd IAT Min', 'FIN Flag Count', 'SYN Flag Count', 'RST Flag Count', 'PSH Flag Count',\n",
    "    'ACK Flag Count', 'URG Flag Count', 'CWE Flag Count', 'ECE Flag Count', 'Down/Up Ratio', 'Average Packet Size',\n",
    "    'Avg Fwd Segment Size', 'Avg Bwd Segment Size', 'Fwd Header Length.1', 'Fwd Avg Bytes/Bulk',\n",
    "    'Fwd Avg Packets/Bulk', 'Fwd Avg Bulk Rate', 'Bwd Avg Bytes/Bulk', 'Bwd Avg Packets/Bulk', 'Bwd Avg Bulk Rate',\n",
    "    'Subflow Fwd Packets', 'Subflow Fwd Bytes', 'Subflow Bwd Packets', 'Subflow Bwd Bytes', 'Init_Win_bytes_forward',\n",
    "    'Init_Win_bytes_backward', 'act_data_pkt_fwd', 'min_seg_size_forward', 'Active Mean', 'Active Std', 'Active Max',\n",
    "    'Active Min', 'Idle Mean', 'Idle Std', 'Idle Max', 'Idle Min'\n",
    "])\n"
   ]
  },
  {
   "cell_type": "raw",
   "id": "d2c94bd8-dea6-400e-b1d1-78f44ff8f567",
   "metadata": {},
   "source": [
    "df.head(10)"
   ]
  },
  {
   "cell_type": "raw",
   "id": "be922104-b275-4e79-a911-221a483558a7",
   "metadata": {},
   "source": [
    "df['Label'] = df['Label'].apply(lambda x: 1 if x != \"Benign\" else 0)\n"
   ]
  },
  {
   "cell_type": "raw",
   "id": "8bc41ba4-dc23-42c0-b2fa-2bad02f20114",
   "metadata": {},
   "source": [
    "from sklearn.preprocessing import MinMaxScaler\n",
    "\n",
    "scaler = MinMaxScaler()\n",
    "df[df.columns[:-1]] = scaler.fit_transform(df[df.columns[:-1]])\n"
   ]
  },
  {
   "cell_type": "raw",
   "id": "f87e6326-6352-45f9-8458-56b5ec11f827",
   "metadata": {},
   "source": [
    "from sklearn.model_selection import train_test_split\n",
    "\n",
    "# Split features (X) and labels (y)\n",
    "x = df.drop(columns=['Label'])\n",
    "y = df['Label']\n",
    "\n",
    "# Split dataset into training (80%) and testing (20%)\n",
    "x_train, x_test, y_train, y_test = train_test_split(x, y, test_size=0.3, random_state=42)"
   ]
  },
  {
   "cell_type": "raw",
   "id": "6269bbd2-dccf-4155-a598-5f97174f43c8",
   "metadata": {},
   "source": [
    "from sklearn.ensemble import RandomForestClassifier\n",
    "from sklearn.metrics import accuracy_score, classification_report\n",
    "\n",
    "# Train the Random Forest model\n",
    "model = RandomForestClassifier(\n",
    "    n_estimators=100,\n",
    "    max_depth=5,  # Lower max depth\n",
    "    min_samples_split=10,  # Higher min_samples_split\n",
    "    min_samples_leaf=5,  # Higher min_samples_leaf\n",
    "    random_state=42\n",
    ")\n",
    "\n",
    "model.fit(x_train, y_train)\n",
    "\n",
    "\n",
    "\n",
    "# Predict on the test set\n",
    "y_pred = model.predict(x_test)\n",
    "\n",
    "# Evaluate performance\n",
    "accuracy = accuracy_score(y_test, y_pred)"
   ]
  },
  {
   "cell_type": "raw",
   "id": "8069df71-1bed-4b17-9086-c9f87256fb1b",
   "metadata": {},
   "source": [
    "from sklearn.model_selection import cross_val_score\n",
    "\n",
    "# Perform 10-fold cross-validation\n",
    "cv_scores = cross_val_score(model, x, y, cv=10)"
   ]
  },
  {
   "cell_type": "raw",
   "id": "f2b501ba-adba-482c-806b-7088a3f69510",
   "metadata": {},
   "source": [
    " print(cv_scores)"
   ]
  },
  {
   "cell_type": "raw",
   "id": "33e15e31-82d4-4ddc-b8ad-6929493cacf8",
   "metadata": {},
   "source": [
    "model.score(x_train, y_train)*100 , model.score(x_test, y_test)*100"
   ]
  },
  {
   "cell_type": "raw",
   "id": "a5419565-a9ec-406a-a812-4e65325e070d",
   "metadata": {},
   "source": [
    "accuracy"
   ]
  },
  {
   "cell_type": "raw",
   "id": "ea1ef136-8904-4e1c-8751-99e0eeb30387",
   "metadata": {},
   "source": [
    "classification_report"
   ]
  },
  {
   "cell_type": "raw",
   "id": "66acfe93-0607-4451-b997-1a9013dcefa3",
   "metadata": {},
   "source": [
    "df.shape\n"
   ]
  },
  {
   "cell_type": "raw",
   "id": "eb94ad0b-c09e-41c7-be73-1cdef3073c48",
   "metadata": {},
   "source": [
    "from sklearn.metrics import accuracy_score, precision_score, recall_score, f1_score, confusion_matrix\n",
    "\n",
    "# Predictions\n",
    "y_pred = model.predict(x_test)\n",
    "\n",
    "# Accuracy\n",
    "accuracy = accuracy_score(y_test, y_pred)\n",
    "print(f\"Accuracy: {accuracy * 100:.2f}%\")\n",
    "\n",
    "# Precision\n",
    "precision = precision_score(y_test, y_pred)\n",
    "precision * 100\n",
    "\n",
    "# Recall\n",
    "recall = recall_score(y_test, y_pred)\n",
    "recall * 100\n",
    "\n",
    "# F1-Score\n",
    "f1 = f1_score(y_test, y_pred)\n",
    "f1 * 100\n",
    "\n",
    "# Confusion Matrix\n",
    "cm = confusion_matrix(y_test, y_pred)\n",
    "print(\"Confusion Matrix:\")\n",
    "print(cm)\n"
   ]
  },
  {
   "cell_type": "raw",
   "id": "b9753b47-2ade-403d-ad7a-c7a44828720d",
   "metadata": {},
   "source": []
  },
  {
   "cell_type": "raw",
   "id": "dbe6ca28-f4d9-4bdb-b4e2-d58fc57a85e0",
   "metadata": {},
   "source": []
  },
  {
   "cell_type": "code",
   "execution_count": null,
   "id": "32cb7548-23f6-469d-b5e7-f094d5089f65",
   "metadata": {},
   "outputs": [],
   "source": []
  }
 ],
 "metadata": {
  "kernelspec": {
   "display_name": "Python 3 (ipykernel)",
   "language": "python",
   "name": "python3"
  },
  "language_info": {
   "codemirror_mode": {
    "name": "ipython",
    "version": 3
   },
   "file_extension": ".py",
   "mimetype": "text/x-python",
   "name": "python",
   "nbconvert_exporter": "python",
   "pygments_lexer": "ipython3",
   "version": "3.11.0"
  }
 },
 "nbformat": 4,
 "nbformat_minor": 5
}
