{
 "cells": [
  {
   "cell_type": "code",
   "execution_count": 1,
   "id": "b120b873-b166-4c5a-b6c3-b55303fb5b51",
   "metadata": {},
   "outputs": [],
   "source": [
    "import pandas as pd\n"
   ]
  },
  {
   "cell_type": "code",
   "execution_count": 2,
   "id": "0d946e34-b341-4894-84d1-e1a8eaa55810",
   "metadata": {},
   "outputs": [],
   "source": [
    "df= pd.read_csv(\"packet_features.csv\")"
   ]
  },
  {
   "cell_type": "code",
   "execution_count": 3,
   "id": "2127d3b4-ef1a-425e-b0da-687a6c719151",
   "metadata": {},
   "outputs": [
    {
     "data": {
      "text/plain": [
       "(500, 13)"
      ]
     },
     "execution_count": 3,
     "metadata": {},
     "output_type": "execute_result"
    }
   ],
   "source": [
    "df.shape"
   ]
  },
  {
   "cell_type": "code",
   "execution_count": 4,
   "id": "488cfa81-8c1f-4224-8a8a-a9c1aa88ed3a",
   "metadata": {},
   "outputs": [
    {
     "data": {
      "text/plain": [
       "Source IP                      103\n",
       "Destination IP                 103\n",
       "Protocol                       103\n",
       "Source Port                      2\n",
       "Destination Port                 2\n",
       "Flags                            4\n",
       "Packet Length                    0\n",
       "Flow Duration                  103\n",
       "Flow Bytes/sec                 103\n",
       "Forward Packet Length Mean     103\n",
       "Backward Packet Length Mean    103\n",
       "Total Forward Packets          103\n",
       "Total Backward Packets         103\n",
       "dtype: int64"
      ]
     },
     "execution_count": 4,
     "metadata": {},
     "output_type": "execute_result"
    }
   ],
   "source": [
    "df.isnull().sum()"
   ]
  },
  {
   "cell_type": "code",
   "execution_count": 5,
   "id": "59e9966c-e680-417a-bbc9-d9a8bc7a3514",
   "metadata": {},
   "outputs": [],
   "source": [
    "df= pd.DataFrame(df)"
   ]
  },
  {
   "cell_type": "code",
   "execution_count": 6,
   "id": "94b57c06-f0ff-4184-a8b7-429b9e7deb8c",
   "metadata": {},
   "outputs": [
    {
     "name": "stderr",
     "output_type": "stream",
     "text": [
      "C:\\Users\\Siratulla\\AppData\\Local\\Temp\\ipykernel_21220\\1340308920.py:1: FutureWarning: A value is trying to be set on a copy of a DataFrame or Series through chained assignment using an inplace method.\n",
      "The behavior will change in pandas 3.0. This inplace method will never work because the intermediate object on which we are setting values always behaves as a copy.\n",
      "\n",
      "For example, when doing 'df[col].method(value, inplace=True)', try using 'df.method({col: value}, inplace=True)' or df[col] = df[col].method(value) instead, to perform the operation inplace on the original object.\n",
      "\n",
      "\n",
      "  df['Source IP'].ffill(inplace=True)\n"
     ]
    }
   ],
   "source": [
    "df['Source IP'].ffill(inplace=True)"
   ]
  },
  {
   "cell_type": "code",
   "execution_count": 7,
   "id": "82e95a55-95b6-419d-b9a0-90ccf383e9d8",
   "metadata": {},
   "outputs": [
    {
     "name": "stderr",
     "output_type": "stream",
     "text": [
      "C:\\Users\\Siratulla\\AppData\\Local\\Temp\\ipykernel_21220\\71802669.py:1: FutureWarning: A value is trying to be set on a copy of a DataFrame or Series through chained assignment using an inplace method.\n",
      "The behavior will change in pandas 3.0. This inplace method will never work because the intermediate object on which we are setting values always behaves as a copy.\n",
      "\n",
      "For example, when doing 'df[col].method(value, inplace=True)', try using 'df.method({col: value}, inplace=True)' or df[col] = df[col].method(value) instead, to perform the operation inplace on the original object.\n",
      "\n",
      "\n",
      "  df['Destination IP'].ffill(inplace=True)\n"
     ]
    }
   ],
   "source": [
    "df['Destination IP'].ffill(inplace=True)"
   ]
  },
  {
   "cell_type": "code",
   "execution_count": 8,
   "id": "aecf0aef-b57c-47e5-a007-b933a90b25cd",
   "metadata": {},
   "outputs": [
    {
     "name": "stderr",
     "output_type": "stream",
     "text": [
      "C:\\Users\\Siratulla\\AppData\\Local\\Temp\\ipykernel_21220\\2704647660.py:1: FutureWarning: A value is trying to be set on a copy of a DataFrame or Series through chained assignment using an inplace method.\n",
      "The behavior will change in pandas 3.0. This inplace method will never work because the intermediate object on which we are setting values always behaves as a copy.\n",
      "\n",
      "For example, when doing 'df[col].method(value, inplace=True)', try using 'df.method({col: value}, inplace=True)' or df[col] = df[col].method(value) instead, to perform the operation inplace on the original object.\n",
      "\n",
      "\n",
      "  df['Protocol'].ffill(inplace=True)\n"
     ]
    }
   ],
   "source": [
    "df['Protocol'].ffill(inplace=True)"
   ]
  },
  {
   "cell_type": "code",
   "execution_count": 9,
   "id": "7063d53a-b299-41bd-b441-09d3fcc7cf96",
   "metadata": {},
   "outputs": [
    {
     "name": "stderr",
     "output_type": "stream",
     "text": [
      "C:\\Users\\Siratulla\\AppData\\Local\\Temp\\ipykernel_21220\\748361113.py:1: FutureWarning: A value is trying to be set on a copy of a DataFrame or Series through chained assignment using an inplace method.\n",
      "The behavior will change in pandas 3.0. This inplace method will never work because the intermediate object on which we are setting values always behaves as a copy.\n",
      "\n",
      "For example, when doing 'df[col].method(value, inplace=True)', try using 'df.method({col: value}, inplace=True)' or df[col] = df[col].method(value) instead, to perform the operation inplace on the original object.\n",
      "\n",
      "\n",
      "  df['Source Port'].fillna(df['Source Port'].mean(),inplace= True)\n"
     ]
    }
   ],
   "source": [
    "df['Source Port'].fillna(df['Source Port'].mean(),inplace= True)"
   ]
  },
  {
   "cell_type": "code",
   "execution_count": 10,
   "id": "f3fa62d7-d725-4fe4-a7ee-7e2fcb90fda4",
   "metadata": {},
   "outputs": [
    {
     "name": "stderr",
     "output_type": "stream",
     "text": [
      "C:\\Users\\Siratulla\\AppData\\Local\\Temp\\ipykernel_21220\\3512024241.py:1: FutureWarning: A value is trying to be set on a copy of a DataFrame or Series through chained assignment using an inplace method.\n",
      "The behavior will change in pandas 3.0. This inplace method will never work because the intermediate object on which we are setting values always behaves as a copy.\n",
      "\n",
      "For example, when doing 'df[col].method(value, inplace=True)', try using 'df.method({col: value}, inplace=True)' or df[col] = df[col].method(value) instead, to perform the operation inplace on the original object.\n",
      "\n",
      "\n",
      "  df['Destination Port'].fillna(df['Source Port'].mean(),inplace= True)\n"
     ]
    }
   ],
   "source": [
    "df['Destination Port'].fillna(df['Source Port'].mean(),inplace= True)"
   ]
  },
  {
   "cell_type": "code",
   "execution_count": 11,
   "id": "2b1e8ea6-4250-4164-a4cb-f3e406d9afe5",
   "metadata": {},
   "outputs": [
    {
     "name": "stderr",
     "output_type": "stream",
     "text": [
      "C:\\Users\\Siratulla\\AppData\\Local\\Temp\\ipykernel_21220\\1033737022.py:1: FutureWarning: A value is trying to be set on a copy of a DataFrame or Series through chained assignment using an inplace method.\n",
      "The behavior will change in pandas 3.0. This inplace method will never work because the intermediate object on which we are setting values always behaves as a copy.\n",
      "\n",
      "For example, when doing 'df[col].method(value, inplace=True)', try using 'df.method({col: value}, inplace=True)' or df[col] = df[col].method(value) instead, to perform the operation inplace on the original object.\n",
      "\n",
      "\n",
      "  df['Flow Bytes/sec'].fillna(df['Flow Bytes/sec'].mode()[0],inplace= True)\n"
     ]
    }
   ],
   "source": [
    "df['Flow Bytes/sec'].fillna(df['Flow Bytes/sec'].mode()[0],inplace= True)"
   ]
  },
  {
   "cell_type": "code",
   "execution_count": 12,
   "id": "f34bec08-9415-45bb-85d3-5819acdc1110",
   "metadata": {},
   "outputs": [
    {
     "name": "stderr",
     "output_type": "stream",
     "text": [
      "C:\\Users\\Siratulla\\AppData\\Local\\Temp\\ipykernel_21220\\3942710890.py:1: FutureWarning: A value is trying to be set on a copy of a DataFrame or Series through chained assignment using an inplace method.\n",
      "The behavior will change in pandas 3.0. This inplace method will never work because the intermediate object on which we are setting values always behaves as a copy.\n",
      "\n",
      "For example, when doing 'df[col].method(value, inplace=True)', try using 'df.method({col: value}, inplace=True)' or df[col] = df[col].method(value) instead, to perform the operation inplace on the original object.\n",
      "\n",
      "\n",
      "  df['Flow Duration'].fillna(df['Flow Duration'].mean(),inplace= True)\n"
     ]
    }
   ],
   "source": [
    "df['Flow Duration'].fillna(df['Flow Duration'].mean(),inplace= True)"
   ]
  },
  {
   "cell_type": "code",
   "execution_count": 16,
   "id": "dabd4014-7865-42c3-9021-f232fd15a3ce",
   "metadata": {},
   "outputs": [
    {
     "data": {
      "text/html": [
       "<div>\n",
       "<style scoped>\n",
       "    .dataframe tbody tr th:only-of-type {\n",
       "        vertical-align: middle;\n",
       "    }\n",
       "\n",
       "    .dataframe tbody tr th {\n",
       "        vertical-align: top;\n",
       "    }\n",
       "\n",
       "    .dataframe thead th {\n",
       "        text-align: right;\n",
       "    }\n",
       "</style>\n",
       "<table border=\"1\" class=\"dataframe\">\n",
       "  <thead>\n",
       "    <tr style=\"text-align: right;\">\n",
       "      <th></th>\n",
       "      <th>Source IP</th>\n",
       "      <th>Destination IP</th>\n",
       "      <th>Protocol</th>\n",
       "      <th>Source Port</th>\n",
       "      <th>Destination Port</th>\n",
       "      <th>Flags</th>\n",
       "      <th>Packet Length</th>\n",
       "      <th>Flow Duration</th>\n",
       "      <th>Flow Bytes/sec</th>\n",
       "      <th>Forward Packet Length Mean</th>\n",
       "      <th>Backward Packet Length Mean</th>\n",
       "      <th>Total Forward Packets</th>\n",
       "      <th>Total Backward Packets</th>\n",
       "    </tr>\n",
       "  </thead>\n",
       "  <tbody>\n",
       "    <tr>\n",
       "      <th>0</th>\n",
       "      <td>192.168.242.21</td>\n",
       "      <td>204.79.197.203</td>\n",
       "      <td>6.0</td>\n",
       "      <td>54948.0</td>\n",
       "      <td>443.0</td>\n",
       "      <td>S</td>\n",
       "      <td>66</td>\n",
       "      <td>0.000000</td>\n",
       "      <td>0.000000</td>\n",
       "      <td>66.0</td>\n",
       "      <td>0.0</td>\n",
       "      <td>1.0</td>\n",
       "      <td>0.0</td>\n",
       "    </tr>\n",
       "    <tr>\n",
       "      <th>1</th>\n",
       "      <td>192.168.242.21</td>\n",
       "      <td>192.168.242.69</td>\n",
       "      <td>6.0</td>\n",
       "      <td>54949.0</td>\n",
       "      <td>53.0</td>\n",
       "      <td>S</td>\n",
       "      <td>66</td>\n",
       "      <td>0.000000</td>\n",
       "      <td>0.000000</td>\n",
       "      <td>66.0</td>\n",
       "      <td>0.0</td>\n",
       "      <td>1.0</td>\n",
       "      <td>0.0</td>\n",
       "    </tr>\n",
       "    <tr>\n",
       "      <th>2</th>\n",
       "      <td>192.168.242.21</td>\n",
       "      <td>192.168.242.69</td>\n",
       "      <td>6.0</td>\n",
       "      <td>54950.0</td>\n",
       "      <td>53.0</td>\n",
       "      <td>S</td>\n",
       "      <td>66</td>\n",
       "      <td>0.001424</td>\n",
       "      <td>92696.629213</td>\n",
       "      <td>66.0</td>\n",
       "      <td>0.0</td>\n",
       "      <td>2.0</td>\n",
       "      <td>0.0</td>\n",
       "    </tr>\n",
       "    <tr>\n",
       "      <th>3</th>\n",
       "      <td>192.168.242.69</td>\n",
       "      <td>192.168.242.21</td>\n",
       "      <td>6.0</td>\n",
       "      <td>53.0</td>\n",
       "      <td>54949.0</td>\n",
       "      <td>SA</td>\n",
       "      <td>66</td>\n",
       "      <td>0.000000</td>\n",
       "      <td>0.000000</td>\n",
       "      <td>66.0</td>\n",
       "      <td>0.0</td>\n",
       "      <td>1.0</td>\n",
       "      <td>0.0</td>\n",
       "    </tr>\n",
       "    <tr>\n",
       "      <th>4</th>\n",
       "      <td>192.168.242.69</td>\n",
       "      <td>192.168.242.21</td>\n",
       "      <td>6.0</td>\n",
       "      <td>53.0</td>\n",
       "      <td>54950.0</td>\n",
       "      <td>SA</td>\n",
       "      <td>58</td>\n",
       "      <td>0.000000</td>\n",
       "      <td>0.000000</td>\n",
       "      <td>58.0</td>\n",
       "      <td>0.0</td>\n",
       "      <td>1.0</td>\n",
       "      <td>0.0</td>\n",
       "    </tr>\n",
       "  </tbody>\n",
       "</table>\n",
       "</div>"
      ],
      "text/plain": [
       "        Source IP  Destination IP  Protocol  Source Port  Destination Port  \\\n",
       "0  192.168.242.21  204.79.197.203       6.0      54948.0             443.0   \n",
       "1  192.168.242.21  192.168.242.69       6.0      54949.0              53.0   \n",
       "2  192.168.242.21  192.168.242.69       6.0      54950.0              53.0   \n",
       "3  192.168.242.69  192.168.242.21       6.0         53.0           54949.0   \n",
       "4  192.168.242.69  192.168.242.21       6.0         53.0           54950.0   \n",
       "\n",
       "  Flags  Packet Length  Flow Duration  Flow Bytes/sec  \\\n",
       "0     S             66       0.000000        0.000000   \n",
       "1     S             66       0.000000        0.000000   \n",
       "2     S             66       0.001424    92696.629213   \n",
       "3    SA             66       0.000000        0.000000   \n",
       "4    SA             58       0.000000        0.000000   \n",
       "\n",
       "   Forward Packet Length Mean  Backward Packet Length Mean  \\\n",
       "0                        66.0                          0.0   \n",
       "1                        66.0                          0.0   \n",
       "2                        66.0                          0.0   \n",
       "3                        66.0                          0.0   \n",
       "4                        58.0                          0.0   \n",
       "\n",
       "   Total Forward Packets  Total Backward Packets  \n",
       "0                    1.0                     0.0  \n",
       "1                    1.0                     0.0  \n",
       "2                    2.0                     0.0  \n",
       "3                    1.0                     0.0  \n",
       "4                    1.0                     0.0  "
      ]
     },
     "execution_count": 16,
     "metadata": {},
     "output_type": "execute_result"
    }
   ],
   "source": [
    "df.head(5)"
   ]
  },
  {
   "cell_type": "code",
   "execution_count": 19,
   "id": "05fbf2d0-db8c-454c-984c-a374bea19eee",
   "metadata": {},
   "outputs": [],
   "source": [
    "from sklearn.preprocessing import LabelEncoder\n",
    "\n",
    "le = LabelEncoder()\n",
    "df[\"Flags\"] = le.fit_transform(df[\"Flags\"])"
   ]
  },
  {
   "cell_type": "code",
   "execution_count": 20,
   "id": "e7b8eb85-452b-4b2e-bb84-96f093b4fdf8",
   "metadata": {},
   "outputs": [
    {
     "name": "stderr",
     "output_type": "stream",
     "text": [
      "C:\\Users\\Siratulla\\AppData\\Local\\Temp\\ipykernel_21220\\3108499984.py:1: FutureWarning: A value is trying to be set on a copy of a DataFrame or Series through chained assignment using an inplace method.\n",
      "The behavior will change in pandas 3.0. This inplace method will never work because the intermediate object on which we are setting values always behaves as a copy.\n",
      "\n",
      "For example, when doing 'df[col].method(value, inplace=True)', try using 'df.method({col: value}, inplace=True)' or df[col] = df[col].method(value) instead, to perform the operation inplace on the original object.\n",
      "\n",
      "\n",
      "  df['Flags'].fillna(df['Flags'].mean(),inplace= True)\n"
     ]
    }
   ],
   "source": [
    "df['Flags'].fillna(df['Flags'].mean(),inplace= True)"
   ]
  },
  {
   "cell_type": "code",
   "execution_count": 21,
   "id": "1be1a214-8c39-46d3-9748-027e41f8b75d",
   "metadata": {},
   "outputs": [
    {
     "name": "stderr",
     "output_type": "stream",
     "text": [
      "C:\\Users\\Siratulla\\AppData\\Local\\Temp\\ipykernel_21220\\3688041713.py:1: FutureWarning: A value is trying to be set on a copy of a DataFrame or Series through chained assignment using an inplace method.\n",
      "The behavior will change in pandas 3.0. This inplace method will never work because the intermediate object on which we are setting values always behaves as a copy.\n",
      "\n",
      "For example, when doing 'df[col].method(value, inplace=True)', try using 'df.method({col: value}, inplace=True)' or df[col] = df[col].method(value) instead, to perform the operation inplace on the original object.\n",
      "\n",
      "\n",
      "  df['Forward Packet Length Mean'].fillna(df['Forward Packet Length Mean'].mean(),inplace= True)\n",
      "C:\\Users\\Siratulla\\AppData\\Local\\Temp\\ipykernel_21220\\3688041713.py:2: FutureWarning: A value is trying to be set on a copy of a DataFrame or Series through chained assignment using an inplace method.\n",
      "The behavior will change in pandas 3.0. This inplace method will never work because the intermediate object on which we are setting values always behaves as a copy.\n",
      "\n",
      "For example, when doing 'df[col].method(value, inplace=True)', try using 'df.method({col: value}, inplace=True)' or df[col] = df[col].method(value) instead, to perform the operation inplace on the original object.\n",
      "\n",
      "\n",
      "  df['Backward Packet Length Mean'].fillna(df['Backward Packet Length Mean'].mean(),inplace= True)\n"
     ]
    }
   ],
   "source": [
    "df['Forward Packet Length Mean'].fillna(df['Forward Packet Length Mean'].mean(),inplace= True)\n",
    "df['Backward Packet Length Mean'].fillna(df['Backward Packet Length Mean'].mean(),inplace= True)\n",
    "\n",
    "\n",
    "\n",
    "\n"
   ]
  },
  {
   "cell_type": "code",
   "execution_count": 22,
   "id": "c95cfa94-ada6-460e-83d6-ab24eab27545",
   "metadata": {},
   "outputs": [
    {
     "name": "stderr",
     "output_type": "stream",
     "text": [
      "C:\\Users\\Siratulla\\AppData\\Local\\Temp\\ipykernel_21220\\4186199328.py:1: FutureWarning: A value is trying to be set on a copy of a DataFrame or Series through chained assignment using an inplace method.\n",
      "The behavior will change in pandas 3.0. This inplace method will never work because the intermediate object on which we are setting values always behaves as a copy.\n",
      "\n",
      "For example, when doing 'df[col].method(value, inplace=True)', try using 'df.method({col: value}, inplace=True)' or df[col] = df[col].method(value) instead, to perform the operation inplace on the original object.\n",
      "\n",
      "\n",
      "  df['Total Forward Packets'].fillna(df['Total Forward Packets'].mode()[0], inplace=True)\n",
      "C:\\Users\\Siratulla\\AppData\\Local\\Temp\\ipykernel_21220\\4186199328.py:2: FutureWarning: A value is trying to be set on a copy of a DataFrame or Series through chained assignment using an inplace method.\n",
      "The behavior will change in pandas 3.0. This inplace method will never work because the intermediate object on which we are setting values always behaves as a copy.\n",
      "\n",
      "For example, when doing 'df[col].method(value, inplace=True)', try using 'df.method({col: value}, inplace=True)' or df[col] = df[col].method(value) instead, to perform the operation inplace on the original object.\n",
      "\n",
      "\n",
      "  df['Total Backward Packets'].fillna(df['Total Backward Packets'].mode()[0], inplace=True)\n"
     ]
    }
   ],
   "source": [
    "df['Total Forward Packets'].fillna(df['Total Forward Packets'].mode()[0], inplace=True)\n",
    "df['Total Backward Packets'].fillna(df['Total Backward Packets'].mode()[0], inplace=True)"
   ]
  },
  {
   "cell_type": "code",
   "execution_count": 23,
   "id": "57805444-fc34-4354-90f7-c01cc4d0a1b2",
   "metadata": {},
   "outputs": [
    {
     "data": {
      "text/plain": [
       "Source IP                      0\n",
       "Destination IP                 0\n",
       "Protocol                       0\n",
       "Source Port                    0\n",
       "Destination Port               0\n",
       "Flags                          0\n",
       "Packet Length                  0\n",
       "Flow Duration                  0\n",
       "Flow Bytes/sec                 0\n",
       "Forward Packet Length Mean     0\n",
       "Backward Packet Length Mean    0\n",
       "Total Forward Packets          0\n",
       "Total Backward Packets         0\n",
       "dtype: int64"
      ]
     },
     "execution_count": 23,
     "metadata": {},
     "output_type": "execute_result"
    }
   ],
   "source": [
    "df.isnull().sum()"
   ]
  },
  {
   "cell_type": "code",
   "execution_count": 91,
   "id": "8d797838-ffab-43e1-905f-8226978015c4",
   "metadata": {},
   "outputs": [],
   "source": []
  },
  {
   "cell_type": "code",
   "execution_count": 25,
   "id": "9ad4a231-87da-44d8-9126-7755601679d1",
   "metadata": {},
   "outputs": [
    {
     "data": {
      "text/html": [
       "<div>\n",
       "<style scoped>\n",
       "    .dataframe tbody tr th:only-of-type {\n",
       "        vertical-align: middle;\n",
       "    }\n",
       "\n",
       "    .dataframe tbody tr th {\n",
       "        vertical-align: top;\n",
       "    }\n",
       "\n",
       "    .dataframe thead th {\n",
       "        text-align: right;\n",
       "    }\n",
       "</style>\n",
       "<table border=\"1\" class=\"dataframe\">\n",
       "  <thead>\n",
       "    <tr style=\"text-align: right;\">\n",
       "      <th></th>\n",
       "      <th>Source IP</th>\n",
       "      <th>Destination IP</th>\n",
       "      <th>Protocol</th>\n",
       "      <th>Source Port</th>\n",
       "      <th>Destination Port</th>\n",
       "      <th>Flags</th>\n",
       "      <th>Packet Length</th>\n",
       "      <th>Flow Duration</th>\n",
       "      <th>Flow Bytes/sec</th>\n",
       "      <th>Forward Packet Length Mean</th>\n",
       "      <th>Backward Packet Length Mean</th>\n",
       "      <th>Total Forward Packets</th>\n",
       "      <th>Total Backward Packets</th>\n",
       "    </tr>\n",
       "  </thead>\n",
       "  <tbody>\n",
       "    <tr>\n",
       "      <th>0</th>\n",
       "      <td>192.168.242.21</td>\n",
       "      <td>204.79.197.203</td>\n",
       "      <td>6.0</td>\n",
       "      <td>54948.0</td>\n",
       "      <td>443.0</td>\n",
       "      <td>5</td>\n",
       "      <td>66</td>\n",
       "      <td>0.000000</td>\n",
       "      <td>0.000000</td>\n",
       "      <td>66.000000</td>\n",
       "      <td>0.0</td>\n",
       "      <td>1.0</td>\n",
       "      <td>0.0</td>\n",
       "    </tr>\n",
       "    <tr>\n",
       "      <th>1</th>\n",
       "      <td>192.168.242.21</td>\n",
       "      <td>192.168.242.69</td>\n",
       "      <td>6.0</td>\n",
       "      <td>54949.0</td>\n",
       "      <td>53.0</td>\n",
       "      <td>5</td>\n",
       "      <td>66</td>\n",
       "      <td>0.000000</td>\n",
       "      <td>0.000000</td>\n",
       "      <td>66.000000</td>\n",
       "      <td>0.0</td>\n",
       "      <td>1.0</td>\n",
       "      <td>0.0</td>\n",
       "    </tr>\n",
       "    <tr>\n",
       "      <th>2</th>\n",
       "      <td>192.168.242.21</td>\n",
       "      <td>192.168.242.69</td>\n",
       "      <td>6.0</td>\n",
       "      <td>54950.0</td>\n",
       "      <td>53.0</td>\n",
       "      <td>5</td>\n",
       "      <td>66</td>\n",
       "      <td>0.001424</td>\n",
       "      <td>92696.629213</td>\n",
       "      <td>66.000000</td>\n",
       "      <td>0.0</td>\n",
       "      <td>2.0</td>\n",
       "      <td>0.0</td>\n",
       "    </tr>\n",
       "    <tr>\n",
       "      <th>3</th>\n",
       "      <td>192.168.242.69</td>\n",
       "      <td>192.168.242.21</td>\n",
       "      <td>6.0</td>\n",
       "      <td>53.0</td>\n",
       "      <td>54949.0</td>\n",
       "      <td>6</td>\n",
       "      <td>66</td>\n",
       "      <td>0.000000</td>\n",
       "      <td>0.000000</td>\n",
       "      <td>66.000000</td>\n",
       "      <td>0.0</td>\n",
       "      <td>1.0</td>\n",
       "      <td>0.0</td>\n",
       "    </tr>\n",
       "    <tr>\n",
       "      <th>4</th>\n",
       "      <td>192.168.242.69</td>\n",
       "      <td>192.168.242.21</td>\n",
       "      <td>6.0</td>\n",
       "      <td>53.0</td>\n",
       "      <td>54950.0</td>\n",
       "      <td>6</td>\n",
       "      <td>58</td>\n",
       "      <td>0.000000</td>\n",
       "      <td>0.000000</td>\n",
       "      <td>58.000000</td>\n",
       "      <td>0.0</td>\n",
       "      <td>1.0</td>\n",
       "      <td>0.0</td>\n",
       "    </tr>\n",
       "    <tr>\n",
       "      <th>5</th>\n",
       "      <td>192.168.242.21</td>\n",
       "      <td>192.168.242.69</td>\n",
       "      <td>6.0</td>\n",
       "      <td>54949.0</td>\n",
       "      <td>53.0</td>\n",
       "      <td>0</td>\n",
       "      <td>54</td>\n",
       "      <td>0.007470</td>\n",
       "      <td>24899.598394</td>\n",
       "      <td>62.000000</td>\n",
       "      <td>0.0</td>\n",
       "      <td>3.0</td>\n",
       "      <td>0.0</td>\n",
       "    </tr>\n",
       "    <tr>\n",
       "      <th>6</th>\n",
       "      <td>192.168.242.21</td>\n",
       "      <td>192.168.242.69</td>\n",
       "      <td>6.0</td>\n",
       "      <td>54950.0</td>\n",
       "      <td>53.0</td>\n",
       "      <td>0</td>\n",
       "      <td>54</td>\n",
       "      <td>0.007529</td>\n",
       "      <td>31876.743259</td>\n",
       "      <td>60.000000</td>\n",
       "      <td>0.0</td>\n",
       "      <td>4.0</td>\n",
       "      <td>0.0</td>\n",
       "    </tr>\n",
       "    <tr>\n",
       "      <th>7</th>\n",
       "      <td>192.168.242.21</td>\n",
       "      <td>192.168.242.69</td>\n",
       "      <td>6.0</td>\n",
       "      <td>54949.0</td>\n",
       "      <td>53.0</td>\n",
       "      <td>3</td>\n",
       "      <td>85</td>\n",
       "      <td>0.013970</td>\n",
       "      <td>23264.137437</td>\n",
       "      <td>65.000000</td>\n",
       "      <td>0.0</td>\n",
       "      <td>5.0</td>\n",
       "      <td>0.0</td>\n",
       "    </tr>\n",
       "    <tr>\n",
       "      <th>8</th>\n",
       "      <td>192.168.242.21</td>\n",
       "      <td>192.168.242.69</td>\n",
       "      <td>6.0</td>\n",
       "      <td>54950.0</td>\n",
       "      <td>53.0</td>\n",
       "      <td>3</td>\n",
       "      <td>85</td>\n",
       "      <td>0.014273</td>\n",
       "      <td>28725.565754</td>\n",
       "      <td>68.333333</td>\n",
       "      <td>0.0</td>\n",
       "      <td>6.0</td>\n",
       "      <td>0.0</td>\n",
       "    </tr>\n",
       "    <tr>\n",
       "      <th>9</th>\n",
       "      <td>192.168.242.69</td>\n",
       "      <td>192.168.242.21</td>\n",
       "      <td>6.0</td>\n",
       "      <td>53.0</td>\n",
       "      <td>54949.0</td>\n",
       "      <td>0</td>\n",
       "      <td>54</td>\n",
       "      <td>0.010067</td>\n",
       "      <td>11920.135095</td>\n",
       "      <td>60.000000</td>\n",
       "      <td>0.0</td>\n",
       "      <td>2.0</td>\n",
       "      <td>0.0</td>\n",
       "    </tr>\n",
       "  </tbody>\n",
       "</table>\n",
       "</div>"
      ],
      "text/plain": [
       "        Source IP  Destination IP  Protocol  Source Port  Destination Port  \\\n",
       "0  192.168.242.21  204.79.197.203       6.0      54948.0             443.0   \n",
       "1  192.168.242.21  192.168.242.69       6.0      54949.0              53.0   \n",
       "2  192.168.242.21  192.168.242.69       6.0      54950.0              53.0   \n",
       "3  192.168.242.69  192.168.242.21       6.0         53.0           54949.0   \n",
       "4  192.168.242.69  192.168.242.21       6.0         53.0           54950.0   \n",
       "5  192.168.242.21  192.168.242.69       6.0      54949.0              53.0   \n",
       "6  192.168.242.21  192.168.242.69       6.0      54950.0              53.0   \n",
       "7  192.168.242.21  192.168.242.69       6.0      54949.0              53.0   \n",
       "8  192.168.242.21  192.168.242.69       6.0      54950.0              53.0   \n",
       "9  192.168.242.69  192.168.242.21       6.0         53.0           54949.0   \n",
       "\n",
       "   Flags  Packet Length  Flow Duration  Flow Bytes/sec  \\\n",
       "0      5             66       0.000000        0.000000   \n",
       "1      5             66       0.000000        0.000000   \n",
       "2      5             66       0.001424    92696.629213   \n",
       "3      6             66       0.000000        0.000000   \n",
       "4      6             58       0.000000        0.000000   \n",
       "5      0             54       0.007470    24899.598394   \n",
       "6      0             54       0.007529    31876.743259   \n",
       "7      3             85       0.013970    23264.137437   \n",
       "8      3             85       0.014273    28725.565754   \n",
       "9      0             54       0.010067    11920.135095   \n",
       "\n",
       "   Forward Packet Length Mean  Backward Packet Length Mean  \\\n",
       "0                   66.000000                          0.0   \n",
       "1                   66.000000                          0.0   \n",
       "2                   66.000000                          0.0   \n",
       "3                   66.000000                          0.0   \n",
       "4                   58.000000                          0.0   \n",
       "5                   62.000000                          0.0   \n",
       "6                   60.000000                          0.0   \n",
       "7                   65.000000                          0.0   \n",
       "8                   68.333333                          0.0   \n",
       "9                   60.000000                          0.0   \n",
       "\n",
       "   Total Forward Packets  Total Backward Packets  \n",
       "0                    1.0                     0.0  \n",
       "1                    1.0                     0.0  \n",
       "2                    2.0                     0.0  \n",
       "3                    1.0                     0.0  \n",
       "4                    1.0                     0.0  \n",
       "5                    3.0                     0.0  \n",
       "6                    4.0                     0.0  \n",
       "7                    5.0                     0.0  \n",
       "8                    6.0                     0.0  \n",
       "9                    2.0                     0.0  "
      ]
     },
     "execution_count": 25,
     "metadata": {},
     "output_type": "execute_result"
    }
   ],
   "source": [
    "df.head(10)"
   ]
  },
  {
   "cell_type": "code",
   "execution_count": 26,
   "id": "3830d2ad-3698-4db7-8fe1-99b42b719acf",
   "metadata": {},
   "outputs": [],
   "source": [
    "test1_columns=[\"Destination Port\",\"Protocol\",\"Flow Duration\",\"Total Forward Packets\",\"Total Backward Packets\",\"Forward Packet Length Mean\",\"Backward Packet Length Mean\",\"Flow Bytes/sec\",\"Flags\"]\n"
   ]
  },
  {
   "cell_type": "code",
   "execution_count": 27,
   "id": "0c3b8d75-3867-4be3-abda-523c91eac8e2",
   "metadata": {},
   "outputs": [],
   "source": [
    "df=df[test1_columns]"
   ]
  },
  {
   "cell_type": "code",
   "execution_count": 29,
   "id": "fde4258f-fbcd-44be-8a83-3708d96fe774",
   "metadata": {},
   "outputs": [],
   "source": [
    "# Assuming 'df' is your dataframe with the selected columns\n",
    "df.rename(columns={\n",
    "    \"Destination Port\": \"Dst Port\",\n",
    "    \"Protocol\": \"Protocol\",\n",
    "    \"Flow Duration\": \"Flow Duration\",\n",
    "    \"Total Forward Packets\": \"Tot Fwd Pkts\",\n",
    "    \"Total Backward Packets\": \"Tot Bwd Pkts\",\n",
    "    \"Forward Packet Length Mean\": \"Fwd Pkt Len Mean\",\n",
    "    \"Backward Packet Length Mean\": \"Bwd Pkt Len Mean\",\n",
    "    \"Flow Bytes/sec\": \"Flow Byts/s\",\n",
    "    \"Flags\":\"SYN Flag Cnt\"\n",
    "}, inplace=True)\n",
    "\n",
    "# Select only the relevant columns (now with CICIDS2018 names)\n",
    "df = df[[\"Dst Port\", \"Protocol\", \"Flow Duration\", \"Tot Fwd Pkts\", \"Tot Bwd Pkts\", \n",
    "         \"Fwd Pkt Len Mean\", \"Bwd Pkt Len Mean\", \"Flow Byts/s\",\"SYN Flag Cnt\"]]\n"
   ]
  },
  {
   "cell_type": "code",
   "execution_count": 31,
   "id": "69363b6c-71c0-44ac-a1bc-193a23727888",
   "metadata": {},
   "outputs": [
    {
     "data": {
      "text/html": [
       "<div>\n",
       "<style scoped>\n",
       "    .dataframe tbody tr th:only-of-type {\n",
       "        vertical-align: middle;\n",
       "    }\n",
       "\n",
       "    .dataframe tbody tr th {\n",
       "        vertical-align: top;\n",
       "    }\n",
       "\n",
       "    .dataframe thead th {\n",
       "        text-align: right;\n",
       "    }\n",
       "</style>\n",
       "<table border=\"1\" class=\"dataframe\">\n",
       "  <thead>\n",
       "    <tr style=\"text-align: right;\">\n",
       "      <th></th>\n",
       "      <th>Dst Port</th>\n",
       "      <th>Protocol</th>\n",
       "      <th>Flow Duration</th>\n",
       "      <th>Tot Fwd Pkts</th>\n",
       "      <th>Tot Bwd Pkts</th>\n",
       "      <th>Fwd Pkt Len Mean</th>\n",
       "      <th>Bwd Pkt Len Mean</th>\n",
       "      <th>Flow Byts/s</th>\n",
       "      <th>SYN Flag Cnt</th>\n",
       "    </tr>\n",
       "  </thead>\n",
       "  <tbody>\n",
       "    <tr>\n",
       "      <th>0</th>\n",
       "      <td>443.0</td>\n",
       "      <td>6.0</td>\n",
       "      <td>0.000000</td>\n",
       "      <td>1.0</td>\n",
       "      <td>0.0</td>\n",
       "      <td>66.0</td>\n",
       "      <td>0.0</td>\n",
       "      <td>0.000000</td>\n",
       "      <td>5</td>\n",
       "    </tr>\n",
       "    <tr>\n",
       "      <th>1</th>\n",
       "      <td>53.0</td>\n",
       "      <td>6.0</td>\n",
       "      <td>0.000000</td>\n",
       "      <td>1.0</td>\n",
       "      <td>0.0</td>\n",
       "      <td>66.0</td>\n",
       "      <td>0.0</td>\n",
       "      <td>0.000000</td>\n",
       "      <td>5</td>\n",
       "    </tr>\n",
       "    <tr>\n",
       "      <th>2</th>\n",
       "      <td>53.0</td>\n",
       "      <td>6.0</td>\n",
       "      <td>0.001424</td>\n",
       "      <td>2.0</td>\n",
       "      <td>0.0</td>\n",
       "      <td>66.0</td>\n",
       "      <td>0.0</td>\n",
       "      <td>92696.629213</td>\n",
       "      <td>5</td>\n",
       "    </tr>\n",
       "    <tr>\n",
       "      <th>3</th>\n",
       "      <td>54949.0</td>\n",
       "      <td>6.0</td>\n",
       "      <td>0.000000</td>\n",
       "      <td>1.0</td>\n",
       "      <td>0.0</td>\n",
       "      <td>66.0</td>\n",
       "      <td>0.0</td>\n",
       "      <td>0.000000</td>\n",
       "      <td>6</td>\n",
       "    </tr>\n",
       "    <tr>\n",
       "      <th>4</th>\n",
       "      <td>54950.0</td>\n",
       "      <td>6.0</td>\n",
       "      <td>0.000000</td>\n",
       "      <td>1.0</td>\n",
       "      <td>0.0</td>\n",
       "      <td>58.0</td>\n",
       "      <td>0.0</td>\n",
       "      <td>0.000000</td>\n",
       "      <td>6</td>\n",
       "    </tr>\n",
       "  </tbody>\n",
       "</table>\n",
       "</div>"
      ],
      "text/plain": [
       "   Dst Port  Protocol  Flow Duration  Tot Fwd Pkts  Tot Bwd Pkts  \\\n",
       "0     443.0       6.0       0.000000           1.0           0.0   \n",
       "1      53.0       6.0       0.000000           1.0           0.0   \n",
       "2      53.0       6.0       0.001424           2.0           0.0   \n",
       "3   54949.0       6.0       0.000000           1.0           0.0   \n",
       "4   54950.0       6.0       0.000000           1.0           0.0   \n",
       "\n",
       "   Fwd Pkt Len Mean  Bwd Pkt Len Mean   Flow Byts/s  SYN Flag Cnt  \n",
       "0              66.0               0.0      0.000000             5  \n",
       "1              66.0               0.0      0.000000             5  \n",
       "2              66.0               0.0  92696.629213             5  \n",
       "3              66.0               0.0      0.000000             6  \n",
       "4              58.0               0.0      0.000000             6  "
      ]
     },
     "execution_count": 31,
     "metadata": {},
     "output_type": "execute_result"
    }
   ],
   "source": [
    "df.head(5)"
   ]
  },
  {
   "cell_type": "code",
   "execution_count": 35,
   "id": "072e4cce-be65-429c-ac7e-9c2bfc603116",
   "metadata": {},
   "outputs": [],
   "source": [
    "\n",
    "\n",
    "# df.drop(columns=[\"Source IP\",\"Destination IP\",\"Source Port\",\"Packet Length\"],inplace=True)"
   ]
  },
  {
   "cell_type": "code",
   "execution_count": 36,
   "id": "f071120b-5539-49b6-a45c-2a09693b3695",
   "metadata": {},
   "outputs": [],
   "source": [
    "from sklearn.preprocessing import MinMaxScaler\n",
    "\n",
    "# Initialize MinMaxScaler\n",
    "scaler = MinMaxScaler()\n",
    "\n",
    "# Fit and transform the 'Flow Bytes/sec' column\n",
    "df['Flow Byts/s'] = scaler.fit_transform(df[['Flow Byts/s']])"
   ]
  },
  {
   "cell_type": "code",
   "execution_count": 34,
   "id": "6738753a-d6bb-46a5-b88a-28cefd26387d",
   "metadata": {},
   "outputs": [],
   "source": [
    "from sklearn.preprocessing import MinMaxScaler\n",
    "\n",
    "# Initialize MinMaxScaler\n",
    "scaler = MinMaxScaler()\n",
    "\n",
    "# Fit and transform the 'Flow Bytes/sec' column\n",
    "df['Fwd Pkt Len Mean'] = scaler.fit_transform(df[['Fwd Pkt Len Mean']])"
   ]
  },
  {
   "cell_type": "code",
   "execution_count": 37,
   "id": "fb39c7f8-c225-4a3b-b032-ed056d551274",
   "metadata": {},
   "outputs": [],
   "source": [
    "from sklearn.preprocessing import MinMaxScaler\n",
    "\n",
    "# Initialize MinMaxScaler\n",
    "scaler = MinMaxScaler()\n",
    "\n",
    "# Fit and transform the 'Flow Bytes/sec' column\n",
    "df['Tot Fwd Pkts'] = scaler.fit_transform(df[['Tot Fwd Pkts']])"
   ]
  },
  {
   "cell_type": "code",
   "execution_count": 38,
   "id": "4437a244-609b-4cd5-8938-970d05c85e54",
   "metadata": {},
   "outputs": [],
   "source": [
    "from sklearn.preprocessing import MinMaxScaler\n",
    "\n",
    "# Initialize MinMaxScaler\n",
    "scaler = MinMaxScaler()\n",
    "\n",
    "# Fit and transform the 'Flow Bytes/sec' column\n",
    "df['Dst Port'] = scaler.fit_transform(df[['Dst Port']])"
   ]
  },
  {
   "cell_type": "code",
   "execution_count": 40,
   "id": "c2bd825a-7c74-4ad1-adf9-359a2d4b1dee",
   "metadata": {},
   "outputs": [],
   "source": [
    "df.to_csv(\"test_features.csv\", index=False)  "
   ]
  },
  {
   "cell_type": "code",
   "execution_count": null,
   "id": "16a8edb8-353e-4176-887b-251a1d021796",
   "metadata": {},
   "outputs": [],
   "source": []
  }
 ],
 "metadata": {
  "kernelspec": {
   "display_name": "Python 3 (ipykernel)",
   "language": "python",
   "name": "python3"
  },
  "language_info": {
   "codemirror_mode": {
    "name": "ipython",
    "version": 3
   },
   "file_extension": ".py",
   "mimetype": "text/x-python",
   "name": "python",
   "nbconvert_exporter": "python",
   "pygments_lexer": "ipython3",
   "version": "3.11.0"
  }
 },
 "nbformat": 4,
 "nbformat_minor": 5
}
